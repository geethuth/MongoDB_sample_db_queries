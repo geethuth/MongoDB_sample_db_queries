{
 "cells": [
  {
   "cell_type": "code",
   "execution_count": 1,
   "id": "8625519d",
   "metadata": {},
   "outputs": [],
   "source": [
    "import pymongo"
   ]
  },
  {
   "cell_type": "code",
   "execution_count": 2,
   "id": "9b68da19",
   "metadata": {},
   "outputs": [],
   "source": [
    "# set up the client \n",
    "client = pymongo.MongoClient(\"localhost\",27017)"
   ]
  },
  {
   "cell_type": "code",
   "execution_count": 3,
   "id": "cd446926",
   "metadata": {},
   "outputs": [],
   "source": [
    "# create a variable db and assign the db to it\n",
    "db = client.cooker"
   ]
  },
  {
   "cell_type": "code",
   "execution_count": 4,
   "id": "42cb5eee",
   "metadata": {},
   "outputs": [
    {
     "data": {
      "text/plain": [
       "'cooker'"
      ]
     },
     "execution_count": 4,
     "metadata": {},
     "output_type": "execute_result"
    }
   ],
   "source": [
    "#get the db name\n",
    "db.name"
   ]
  },
  {
   "cell_type": "code",
   "execution_count": 5,
   "id": "eb1f0710",
   "metadata": {},
   "outputs": [
    {
     "data": {
      "text/plain": [
       "{'_id': ObjectId('5e6fd805fa98021236426a24'),\n",
       " 'title': 'Chicken Soft Tacos',\n",
       " 'calories_per_serving': 205,\n",
       " 'cook_time': 19,\n",
       " 'desc': 'Mexican soft tacos',\n",
       " 'directions': ['Put seasoning on chicken breasts',\n",
       "  'Grill until done',\n",
       "  'Chop chicken into pieces',\n",
       "  'Put in tortillas'],\n",
       " 'ingredients': [{'name': 'chicken breast',\n",
       "   'quantity': {'amount': 1, 'unit': 'lbs'}},\n",
       "  {'name': 'taco seasoning', 'quantity': {'amount': 2, 'unit': 'oz'}},\n",
       "  {'name': 'small flour tortillas', 'quantity': {'amount': 12, 'unit': 'oz'}}],\n",
       " 'likes': [261, 1, 415],\n",
       " 'likes_count': 3,\n",
       " 'prep_time': 10,\n",
       " 'rating': [4, 4, 4, 4, 2, 5, 3],\n",
       " 'rating_avg': 3.71,\n",
       " 'servings': 5,\n",
       " 'tags': ['mexican', 'quick', 'easy', 'chicken'],\n",
       " 'type': 'Dinner'}"
      ]
     },
     "execution_count": 5,
     "metadata": {},
     "output_type": "execute_result"
    }
   ],
   "source": [
    "# get one document from the db\n",
    "db.recipes.find_one()"
   ]
  },
  {
   "cell_type": "markdown",
   "id": "a2b37c00",
   "metadata": {},
   "source": [
    "if we use bd.recipes.find(), it will give a cursor of data, not a string of objects"
   ]
  },
  {
   "cell_type": "code",
   "execution_count": 6,
   "id": "5890d9fe",
   "metadata": {},
   "outputs": [
    {
     "name": "stdout",
     "output_type": "stream",
     "text": [
      "Chicken Soft Tacos\n",
      "Pancakes\n",
      "Brown Sugar Meatloaf\n",
      "Maple Smoked Salmon\n",
      "Apple Pie\n",
      "Zucchini Brownies\n",
      "Tacos\n"
     ]
    }
   ],
   "source": [
    "# in order to solve the problem, we will itereate it through a for loop\n",
    "for item in db.recipes.find():\n",
    "    print(item['title'])"
   ]
  },
  {
   "cell_type": "code",
   "execution_count": 7,
   "id": "a2539453",
   "metadata": {},
   "outputs": [
    {
     "name": "stdout",
     "output_type": "stream",
     "text": [
      "Apple Pie\n",
      "Brown Sugar Meatloaf\n",
      "Chicken Soft Tacos\n"
     ]
    }
   ],
   "source": [
    "# sort the listing in ascending order of title\n",
    "for item in db.recipes.find().sort(\"title\",pymongo.ASCENDING).limit(3):\n",
    "    print(item['title'])"
   ]
  },
  {
   "cell_type": "code",
   "execution_count": null,
   "id": "1ce4df9e",
   "metadata": {},
   "outputs": [],
   "source": [
    "# program to search a recipe\n",
    "import os\n",
    "\n",
    "print(\"what do you want to cook?\")\n",
    "search = input()\n",
    "\n",
    "os.system(\"clear\")\n",
    "print(\"We found following items\")\n",
    "\n",
    "query = {\n",
    "    \"title\":{\n",
    "        \"$regex\":search,\n",
    "        \"$options\":\"i\"\n",
    "    }\n",
    "}\n",
    "\n",
    "for item in db.recipes.find(query):\n",
    "    total_time = item[\"prep_time\"]+item[\"cook_time\"]\n",
    "    output = \"[{}]\\n\".format(item[\"title\"])\n",
    "    output +=\"Description : {}\\n\".format(item[\"description\"])\n",
    "    output +=\"total time :{}\\n\".format(total_time)"
   ]
  }
 ],
 "metadata": {
  "kernelspec": {
   "display_name": "Python 3 (ipykernel)",
   "language": "python",
   "name": "python3"
  },
  "language_info": {
   "codemirror_mode": {
    "name": "ipython",
    "version": 3
   },
   "file_extension": ".py",
   "mimetype": "text/x-python",
   "name": "python",
   "nbconvert_exporter": "python",
   "pygments_lexer": "ipython3",
   "version": "3.9.12"
  }
 },
 "nbformat": 4,
 "nbformat_minor": 5
}
